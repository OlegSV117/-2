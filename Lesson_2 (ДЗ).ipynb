{
 "cells": [
  {
   "cell_type": "markdown",
   "metadata": {
    "id": "JkQFTgKJiqsy"
   },
   "source": [
    "1. Сгенерировать датасет при помощи `sklearn.datasets.make_regression` и обучить линейную модель при помощи градиентного спуска и стохастического градиентного спуска. Построить графики среднеквадратичной ошибки от числа итераций для обоих методов на одном рисунке, сделать выводы о разнице скорости сходимости каждого из методов.\n",
    "\n",
    "2. Модифицировать решение первого задания путем добавления L2 регуляризации и сравнить результаты.  \n",
    "3. [\\*] Модернизировать решение задания 2, заменив L2 регуляризацию на L1 регуляризацию.\n",
    "4. [\\*] Построить график изменения весов от числа итераций при GD и SGD (на одном рисунке).\n",
    "5. [\\*] Построить график изменения весов для L1 и L2 регуляризации от коэффициента регуляризации."
   ]
  },
  {
   "cell_type": "code",
   "execution_count": 73,
   "metadata": {},
   "outputs": [],
   "source": [
    "import numpy as np\n",
    "from sklearn import datasets\n",
    "import matplotlib.pyplot as plt\n",
    "\n",
    "%matplotlib inline\n",
    "\n",
    "# сгенерируем набор данных\n",
    "X, y, coef = datasets.make_regression(n_samples=100, \n",
    "                                      n_features=2, \n",
    "                                      n_informative=2, \n",
    "                                      n_targets=1,\n",
    "                                      noise=5, \n",
    "                                      coef=True, \n",
    "                                      random_state=42)"
   ]
  },
  {
   "cell_type": "code",
   "execution_count": 74,
   "metadata": {},
   "outputs": [],
   "source": [
    "#  data, target, coef = datasets.make_regression(n_samples=10000, n_features = 2, n_informative = 2, n_targets = 1, noise = 5, coef = True, random_state = 2)"
   ]
  },
  {
   "cell_type": "code",
   "execution_count": 75,
   "metadata": {},
   "outputs": [
    {
     "data": {
      "text/plain": [
       "((array([ 1.,  2.,  5., 15., 15., 19., 23., 11.,  4.,  5.]),\n",
       "  array([-2.6197451, -2.169152 , -1.7185589, -1.2679658, -0.8173727,\n",
       "         -0.3667796,  0.0838135,  0.5344066,  0.9849997,  1.4355928,\n",
       "          1.8861859]),\n",
       "  <BarContainer object of 10 artists>),\n",
       " (array([ 4., 13.,  9., 19., 19., 18.,  7.,  6.,  3.,  2.]),\n",
       "  array([-1.98756891, -1.51679511, -1.0460213 , -0.57524749, -0.10447368,\n",
       "          0.36630013,  0.83707393,  1.30784774,  1.77862155,  2.24939536,\n",
       "          2.72016917]),\n",
       "  <BarContainer object of 10 artists>))"
      ]
     },
     "execution_count": 75,
     "metadata": {},
     "output_type": "execute_result"
    },
    {
     "data": {
      "image/png": "[encoded data removed]",
      "text/plain": [
       "<Figure size 432x288 with 1 Axes>"
      ]
     },
     "metadata": {
      "needs_background": "light"
     },
     "output_type": "display_data"
    }
   ],
   "source": [
    "# строим гистограмму распределения стандартизированного признака X[:, 1]\n",
    "\n",
    "plt.hist(X[:, 0]), plt.hist(X[:, 1])"
   ]
  },
  {
   "cell_type": "code",
   "execution_count": 76,
   "metadata": {},
   "outputs": [],
   "source": [
    "# стандартизируем признаки X, так как исходные данные имеют характер распределения\n",
    "\n",
    "X_st = X.copy().astype(np.float64)"
   ]
  },
  {
   "cell_type": "code",
   "execution_count": 77,
   "metadata": {},
   "outputs": [],
   "source": [
    "# функция стандартизирования признаков \n",
    "\n",
    "def calc_std_feat(x):\n",
    "    s = (x - x.mean()) / x.std()\n",
    "    return s"
   ]
  },
  {
   "cell_type": "code",
   "execution_count": 78,
   "metadata": {},
   "outputs": [],
   "source": [
    "X_st[:, 0] = calc_std_feat(X[:, 0])\n",
    "X_st[:, 1] = calc_std_feat(X[:, 1])"
   ]
  },
  {
   "cell_type": "code",
   "execution_count": 79,
   "metadata": {},
   "outputs": [],
   "source": [
    "# реализуем функцию, определяющую среднеквадратичную ошибку\n",
    "def mserror(y, y_pred):\n",
    "    return (sum((y - y_pred)**2)) / len(y)"
   ]
  },
  {
   "cell_type": "code",
   "execution_count": 80,
   "metadata": {},
   "outputs": [],
   "source": [
    "# Метод градиентного спуска\n",
    "alpha=1e-2\n",
    "iterations = 10000 # максимальное число итераций\n",
    "np.random.seed(42)\n",
    "n = X_st.shape[0] # число наблюдений\n",
    "w_GD = np.random.randn(X_st.shape[1])# начальное приближение весов методом GD\n",
    "w_SGD = np.random.randn(X_st.shape[1])# начальное приближение весов методом GD \n",
    "# w_SGD = np.zeros(2) # инициализируем начальный вектор весов для SGD\n",
    "w_list_GD  = [] # список векторов весов после каждой итерации GD\n",
    "w_list_SGD  = [] # список векторов весов после каждой итерации SGD\n",
    "mserror_list_GD = [] # список значений ошибок после каждой итерации GD\n",
    "mserror_list_SGD = [] # список значений ошибок после каждой итерации SGD\n",
    "    \n",
    "for i in range(1, iterations + 1):\n",
    "    \n",
    "    y_pred_GD = np.dot(X_st, w_GD) \n",
    "    w_GD -= alpha * (1/n * 2 * np.dot((y_pred_GD - y), X_st))\n",
    "    w_list_GD.append(w_GD.copy())\n",
    "    mserror_GD = mserror(y, y_pred_GD)\n",
    "    mserror_list_GD.append(mserror_GD.copy())\n",
    "    \n",
    "    train_ind = np.random.randint(X_st.shape[0]) # генерируем случайный индекс объекта выборки\n",
    "    w_SGD = w_SGD - 2 * alpha * np.dot(X_st[train_ind].T, (np.dot(X_st[train_ind], w_SGD) - y[train_ind])) / y.shape[0]\n",
    "    w_list_SGD.append(w_SGD.copy())\n",
    "    \n",
    "    y_pred_SGD = np.dot(X_st, w_SGD)\n",
    "    mserror_SGD = mserror(y, y_pred_SGD)\n",
    "    mserror_list_SGD.append(mserror_SGD.copy())\n",
    "\n",
    "#     if i % 100 == 0:\n",
    "#         print(i, w_GD,  mserror_GD, w_SGD,  mserror_SGD)\n",
    "\n"
   ]
  },
  {
   "cell_type": "code",
   "execution_count": null,
   "metadata": {},
   "outputs": [],
   "source": []
  },
  {
   "cell_type": "code",
   "execution_count": 81,
   "metadata": {},
   "outputs": [
    {
     "data": {
      "text/plain": [
       "Text(0, 0.5, 'MSE')"
      ]
     },
     "execution_count": 81,
     "metadata": {},
     "output_type": "execute_result"
    },
    {
     "data": {
      "image/png": "[encoded data removed]",
      "text/plain": [
       "<Figure size 936x432 with 1 Axes>"
      ]
     },
     "metadata": {
      "needs_background": "light"
     },
     "output_type": "display_data"
    }
   ],
   "source": [
    "# Визуализируем изменение функционала ошибки\n",
    "plt.figure(figsize=(13, 6))\n",
    "plt.plot(range(len(mserror_list_GD)), mserror_list_GD)\n",
    "plt.plot(range(len(mserror_list_SGD)), mserror_list_SGD,c='r')\n",
    "plt.title('MSE')\n",
    "plt.xlabel('Iteration number')\n",
    "plt.ylabel('MSE')"
   ]
  },
  {
   "cell_type": "markdown",
   "metadata": {},
   "source": [
    "4. [\\*] Построить график изменения весов от числа итераций при GD и SGD (на одном рисунке).\n"
   ]
  },
  {
   "cell_type": "code",
   "execution_count": 82,
   "metadata": {},
   "outputs": [
    {
     "data": {
      "text/plain": [
       "Text(0, 0.5, 'Веса')"
      ]
     },
     "execution_count": 82,
     "metadata": {},
     "output_type": "execute_result"
    },
    {
     "data": {
      "image/png": "[encoded data removed]",
      "text/plain": [
       "<Figure size 936x432 with 1 Axes>"
      ]
     },
     "metadata": {
      "needs_background": "light"
     },
     "output_type": "display_data"
    }
   ],
   "source": [
    "# График изменения весов от числа итераций\n",
    "plt.figure(figsize=(13, 6))\n",
    "plt.plot(range(len( w_list_GD)),  w_list_GD)\n",
    "plt.plot(range(len( w_list_SGD)),  w_list_SGD,c='r')\n",
    "plt.title('График изменения весов от числа итераций ')\n",
    "plt.xlabel('Iteration number')\n",
    "plt.ylabel('Веса')"
   ]
  },
  {
   "cell_type": "markdown",
   "metadata": {},
   "source": [
    "Вывод: по количеству итераций метод SGD сходится быстрее, чем GD"
   ]
  },
  {
   "cell_type": "markdown",
   "metadata": {},
   "source": [
    "### 2. Модифицировать решение первого задания путем добавления L2 регуляризации и сравнить результаты.  \n",
    "\n",
    "L2 регуляризация - Ridge\n",
    "$$\\sum^{n}_{i=1}L_i(\\vec{x}_i,y_i,\\vec{w}) + \\lambda \\sum^{m}_{j=1}w_{j}^{2} \\rightarrow \\underset{w}{\\text{min}}$$"
   ]
  },
  {
   "cell_type": "code",
   "execution_count": 83,
   "metadata": {},
   "outputs": [],
   "source": [
    "def GD_reg2(X, y, iterations, alpha, lambda_):\n",
    "    np.random.seed(42)\n",
    "    w = np.random.randn(X.shape[1])\n",
    "    n = X.shape[0]\n",
    "    for i in range(1, iterations + 1):\n",
    "        y_pred = np.dot(X, w)\n",
    "        err = mserror(y, y_pred)\n",
    "        w -= alpha * (1/n * 2 * np.dot((y_pred - y), X) + 2 * lambda_ * w)\n",
    "        if i % (iterations/10) == 0:\n",
    "            print(i, w, err)\n",
    "    return w"
   ]
  },
  {
   "cell_type": "code",
   "execution_count": 84,
   "metadata": {},
   "outputs": [],
   "source": [
    "def SGD_reg2(X, y, iterations, alpha, lambda_):\n",
    "    np.random.seed(42)\n",
    "    w = np.random.randn(X.shape[1])\n",
    "    n = X.shape[0]\n",
    "    for i in range(1, iterations + 1):\n",
    "        train_ind = np.random.randint(X.shape[0])\n",
    "        new_w = w - 2 * alpha * np.dot(X[train_ind].T, (np.dot(X[train_ind], w) - y[train_ind])) / y.shape[0]- 2 * lambda_ * w\n",
    "        w = new_w\n",
    "        y_pred = np.dot(X, w)\n",
    "        err = mserror(y, y_pred)\n",
    "        if i % (iterations/10) == 0:\n",
    "            print(i, w, err)\n",
    "    return w"
   ]
  },
  {
   "cell_type": "code",
   "execution_count": 85,
   "metadata": {},
   "outputs": [
    {
     "name": "stdout",
     "output_type": "stream",
     "text": [
      "1000 [64.71039503 64.29898701] 263.8767142556401\n",
      "2000 [72.83743719 72.4582462 ] 86.54869211373429\n",
      "3000 [73.8659814  73.49143296] 83.70686715962145\n",
      "4000 [73.99614721 73.62226777] 83.6613243069109\n",
      "5000 [74.01261942 73.63883639] 83.66059440329589\n",
      "6000 [74.01470385 73.6409347 ] 83.66058270059038\n",
      "7000 [74.0149676  73.64120046] 83.66058251236062\n",
      "8000 [74.01500097 73.64123412] 83.6605825092574\n",
      "9000 [74.01500519 73.64123838] 83.66058250919674\n",
      "10000 [74.01500573 73.64123892] 83.66058250919437\n"
     ]
    },
    {
     "data": {
      "text/plain": [
       "array([74.01500573, 73.64123892])"
      ]
     },
     "execution_count": 85,
     "metadata": {},
     "output_type": "execute_result"
    }
   ],
   "source": [
    "GD_reg2(X_st, y, 10000,1e-3 , lambda_=1e-8)"
   ]
  },
  {
   "cell_type": "code",
   "execution_count": 86,
   "metadata": {},
   "outputs": [
    {
     "name": "stdout",
     "output_type": "stream",
     "text": [
      "1000 [64.71039547 64.29898744] 263.87669738182655\n",
      "2000 [72.83743785 72.45824685] 86.54868890852549\n",
      "3000 [73.86598211 73.49143366] 83.70686672393128\n",
      "4000 [73.99614792 73.62226848] 83.66132425106989\n",
      "5000 [74.01262014 73.6388371 ] 83.66059439621164\n",
      "6000 [74.01470456 73.64093542] 83.66058269969238\n",
      "7000 [74.01496831 73.64120117] 83.66058251224597\n",
      "8000 [74.01500169 73.64123483] 83.66058250924198\n",
      "9000 [74.01500591 73.6412391 ] 83.66058250919384\n",
      "10000 [74.01500644 73.64123964] 83.66058250919306\n"
     ]
    },
    {
     "data": {
      "text/plain": [
       "array([74.01500644, 73.64123964])"
      ]
     },
     "execution_count": 86,
     "metadata": {},
     "output_type": "execute_result"
    }
   ],
   "source": [
    "GD_reg2(X_st, y, 10000, 1e-3, lambda_=0)"
   ]
  },
  {
   "cell_type": "code",
   "execution_count": 87,
   "metadata": {},
   "outputs": [
    {
     "name": "stdout",
     "output_type": "stream",
     "text": [
      "10000 [14.3071739 13.2146878] 7533.285975685612\n",
      "20000 [25.13991543 24.71782883] 5020.508094643457\n",
      "30000 [34.21210954 33.84531307] 3354.042784037141\n",
      "40000 [41.65771067 41.33572777] 2241.8749876057727\n",
      "50000 [47.52878643 47.27826422] 1525.325018876588\n",
      "60000 [52.50192203 52.16393267] 1037.6164676062099\n",
      "70000 [56.61171045 56.20778552] 710.0736142471013\n",
      "80000 [59.78469545 59.40037832] 502.06471811646657\n",
      "90000 [62.4299456 62.0702863] 360.426736638236\n",
      "100000 [64.64371292 64.22030563] 265.94291633802237\n"
     ]
    },
    {
     "data": {
      "text/plain": [
       "array([64.64371292, 64.22030563])"
      ]
     },
     "execution_count": 87,
     "metadata": {},
     "output_type": "execute_result"
    }
   ],
   "source": [
    "SGD_reg2(X_st, y, 100000, 1e-3, lambda_=0)"
   ]
  },
  {
   "cell_type": "code",
   "execution_count": 88,
   "metadata": {},
   "outputs": [
    {
     "name": "stdout",
     "output_type": "stream",
     "text": [
      "10000 [14.30574836 13.21343427] 7533.618111289982\n",
      "20000 [25.13510378 24.71331903] 5021.449214781079\n",
      "30000 [34.2027721  33.83629301] 3355.5514259824577\n",
      "40000 [41.64320876 41.32157079] 2243.788491358376\n",
      "50000 [47.5088133  47.25866277] 1527.4849571956481\n",
      "60000 [52.47660607 52.1389548 ] 1039.849821351457\n",
      "70000 [56.58135434 56.17770966] 712.2487905868122\n",
      "80000 [59.74929114 59.36537005] 504.1367989581506\n",
      "90000 [62.39014741 62.03096117] 362.3213752776476\n",
      "100000 [64.60006664 64.1768559 ] 267.63645302288165\n"
     ]
    },
    {
     "data": {
      "text/plain": [
       "array([64.60006664, 64.1768559 ])"
      ]
     },
     "execution_count": 88,
     "metadata": {},
     "output_type": "execute_result"
    }
   ],
   "source": [
    "SGD_reg2(X_st, y, 100000, 1e-3, lambda_=1e-8)"
   ]
  },
  {
   "cell_type": "markdown",
   "metadata": {},
   "source": [
    "Странно, но различий в добавлении  L2-регуляризации не обнаружил"
   ]
  },
  {
   "cell_type": "markdown",
   "metadata": {},
   "source": [
    "### 3. [\\*] Модернизировать решение задания 2, заменив L2 регуляризацию на L1 регуляризацию.\n"
   ]
  },
  {
   "cell_type": "code",
   "execution_count": 89,
   "metadata": {},
   "outputs": [],
   "source": [
    "def GD_reg1(X, y, iterations, alpha, lambda_):\n",
    "    np.random.seed(42)\n",
    "    w = np.random.randn(X.shape[1])\n",
    "    n = X.shape[0]\n",
    "    for i in range(1, iterations + 1):\n",
    "        y_pred = np.dot(X, w)\n",
    "        err = mserror(y, y_pred)\n",
    "        w -= alpha * (1/n * 2 * np.dot((y_pred - y), X) + lambda_)\n",
    "        if i % (iterations/10) == 0:\n",
    "            print(i, w, err)\n",
    "    return w"
   ]
  },
  {
   "cell_type": "code",
   "execution_count": 90,
   "metadata": {},
   "outputs": [],
   "source": [
    "def SGD_reg1(X, y, iterations, alpha, lambda_):\n",
    "    np.random.seed(42)\n",
    "    w = np.random.randn(X.shape[1])\n",
    "    n = X.shape[0]\n",
    "    for i in range(1, iterations + 1):\n",
    "        train_ind = np.random.randint(X.shape[0])\n",
    "        new_w = w - 2 * alpha * np.dot(X[train_ind].T, (np.dot(X[train_ind], w) - y[train_ind])) / y.shape[0]- lambda_\n",
    "        w = new_w\n",
    "        y_pred = np.dot(X, w)\n",
    "        err = mserror(y, y_pred)\n",
    "        if i % (iterations/10) == 0:\n",
    "            print(i, w, err)\n",
    "    return w"
   ]
  },
  {
   "cell_type": "code",
   "execution_count": 91,
   "metadata": {},
   "outputs": [
    {
     "name": "stdout",
     "output_type": "stream",
     "text": [
      "1000 [14.213826   13.62481425] 7496.885032147875\n",
      "2000 [25.37160094 24.8204669 ] 4988.852006228428\n",
      "3000 [34.44755712 33.92763527] 3329.3336518938395\n",
      "4000 [41.83011838 41.33591615] 2231.2615191306104\n",
      "5000 [47.83523715 47.36222854] 1504.6878069167944\n",
      "6000 [52.71991599 52.26437145] 1023.9276231110919\n",
      "7000 [56.6932063  56.25205259] 705.8176351750419\n",
      "8000 [59.92515494 59.49585963] 495.33022782404737\n",
      "9000 [62.55408158 62.1345579 ] 356.0546614052746\n",
      "10000 [64.69249835 64.28102673] 263.8986332117778\n"
     ]
    },
    {
     "data": {
      "text/plain": [
       "array([64.69249835, 64.28102673])"
      ]
     },
     "execution_count": 91,
     "metadata": {},
     "output_type": "execute_result"
    }
   ],
   "source": [
    "GD_reg1(X_st, y, 10000,1e-4 , lambda_=1e-8)"
   ]
  },
  {
   "cell_type": "code",
   "execution_count": 92,
   "metadata": {},
   "outputs": [
    {
     "name": "stdout",
     "output_type": "stream",
     "text": [
      "1000 [14.21382599 13.62481423] 7496.885035278314\n",
      "2000 [25.37160089 24.82046685] 4988.852015347032\n",
      "3000 [34.44755703 33.92763518] 3329.333666638141\n",
      "4000 [41.83011824 41.33591601] 2231.2615379428676\n",
      "5000 [47.83523695 47.36222834] 1504.6878280351023\n",
      "6000 [52.71991574 52.2643712 ] 1023.9276450004518\n",
      "7000 [56.693206   56.25205229] 705.8176566686842\n",
      "8000 [59.92515459 59.49585928] 495.33024812582084\n",
      "9000 [62.55408119 62.13455751] 356.05468003409305\n",
      "10000 [64.69249791 64.2810263 ] 263.89864992973185\n"
     ]
    },
    {
     "data": {
      "text/plain": [
       "array([64.69249791, 64.2810263 ])"
      ]
     },
     "execution_count": 92,
     "metadata": {},
     "output_type": "execute_result"
    }
   ],
   "source": [
    "GD_reg2(X_st, y, 10000,1e-4 , lambda_=1e-8)"
   ]
  },
  {
   "cell_type": "code",
   "execution_count": 93,
   "metadata": {},
   "outputs": [
    {
     "name": "stdout",
     "output_type": "stream",
     "text": [
      "10000 [2.01036953 1.3200553 ] 10835.313661637376\n",
      "20000 [3.43817812 2.83218458] 10401.729090460458\n",
      "30000 [4.87298019 4.27937618] 9985.369964604975\n",
      "40000 [6.28892155 5.70915069] 9582.664818140714\n",
      "50000 [7.63118617 7.07564923] 9207.104435951645\n",
      "60000 [8.99393558 8.427739  ] 8838.308184398991\n",
      "70000 [10.35499298  9.77651161] 8477.780368609738\n",
      "80000 [11.62149049 11.06072332] 8145.343011224846\n",
      "90000 [12.90366399 12.35793017] 7815.999767140582\n",
      "100000 [14.18420112 13.60274453] 7500.218170885666\n"
     ]
    },
    {
     "data": {
      "text/plain": [
       "array([14.18420112, 13.60274453])"
      ]
     },
     "execution_count": 93,
     "metadata": {},
     "output_type": "execute_result"
    }
   ],
   "source": [
    "SGD_reg1(X_st, y, 100000, 1e-4, lambda_=1e-8)"
   ]
  },
  {
   "cell_type": "code",
   "execution_count": 94,
   "metadata": {},
   "outputs": [
    {
     "name": "stdout",
     "output_type": "stream",
     "text": [
      "10000 [2.01021904 1.32003765] 10835.338673048394\n",
      "20000 [3.43758867 2.83185386] 10401.863336989763\n",
      "30000 [4.87167835 4.27844588] 9985.689040468067\n",
      "40000 [6.28663882 5.70734946] 9583.236662138232\n",
      "50000 [7.62767052 7.07271773] 9207.989204804833\n",
      "60000 [8.98894342 8.42343153] 8839.558382023131\n",
      "70000 [10.34828867  9.77058959] 8479.442509416749\n",
      "80000 [11.61284175 11.05295822] 8147.46059637349\n",
      "90000 [12.89286532 12.34811129] 7818.604866185593\n",
      "100000 [14.17105015 13.5906566 ] 7503.341443172394\n"
     ]
    },
    {
     "data": {
      "text/plain": [
       "array([14.17105015, 13.5906566 ])"
      ]
     },
     "execution_count": 94,
     "metadata": {},
     "output_type": "execute_result"
    }
   ],
   "source": [
    "SGD_reg2(X_st, y, 100000, 1e-4, lambda_=1e-8)"
   ]
  },
  {
   "cell_type": "code",
   "execution_count": 95,
   "metadata": {},
   "outputs": [
    {
     "name": "stdout",
     "output_type": "stream",
     "text": [
      "10000 [14.3071739 13.2146878] 7533.285975685612\n",
      "20000 [25.13991543 24.71782883] 5020.508094643457\n",
      "30000 [34.21210954 33.84531307] 3354.042784037141\n",
      "40000 [41.65771067 41.33572777] 2241.8749876057727\n",
      "50000 [47.52878643 47.27826422] 1525.325018876588\n",
      "60000 [52.50192203 52.16393267] 1037.6164676062099\n",
      "70000 [56.61171045 56.20778552] 710.0736142471013\n",
      "80000 [59.78469545 59.40037832] 502.06471811646657\n",
      "90000 [62.4299456 62.0702863] 360.426736638236\n",
      "100000 [64.64371292 64.22030563] 265.94291633802237\n"
     ]
    },
    {
     "data": {
      "text/plain": [
       "array([64.64371292, 64.22030563])"
      ]
     },
     "execution_count": 95,
     "metadata": {},
     "output_type": "execute_result"
    }
   ],
   "source": [
    "SGD_reg1(X_st, y, 100000, 1e-3, lambda_=0)"
   ]
  },
  {
   "cell_type": "markdown",
   "metadata": {},
   "source": [
    "Вывод: для SGD оптимальнее L2-регуляризация, для GD регуляризация L1-L2 не солько значима"
   ]
  },
  {
   "cell_type": "markdown",
   "metadata": {},
   "source": [
    "### 5. [\\*] Построить график изменения весов для L1 и L2 регуляризации от коэффициента регуляризации ... (lambda?)."
   ]
  },
  {
   "cell_type": "code",
   "execution_count": 102,
   "metadata": {},
   "outputs": [
    {
     "name": "stdout",
     "output_type": "stream",
     "text": [
      "1000 [15.20779073 14.61877897] 7253.204120373666\n",
      "2000 [27.17409422 26.62296018] 4632.912568156374\n",
      "3000 [36.90773815 36.3878163 ] 2939.1376223588873\n",
      "4000 [44.82528753 44.3310853 ] 1850.954578114223\n",
      "5000 [51.26558589 50.79257728] 1157.4065973824859\n",
      "6000 [56.5042563  56.04871175] 720.0406303588627\n",
      "7000 [60.76549676 60.32434304] 448.1666230413884\n",
      "8000 [64.23167494 63.80237964] 282.5264387776479\n",
      "9000 [67.05113278 66.63160909] 184.5199716782545\n",
      "10000 [69.34453483 68.93306321] 129.10236432278896\n",
      "1000 [52.16171758 47.21735332] 1308.1303383917386\n",
      "2000 [430.91053399 393.98172967] 236296.90853520107\n",
      "3000 [3207.48311284 2933.1644682 ] 18498964.13625269\n",
      "4000 [23562.41882546 21526.18294315] 1040322899.2801437\n",
      "5000 [172784.6171886  157671.35851466] 56201112531.77476\n",
      "6000 [1266741.39129919 1154569.92725894] 3019787965849.9404\n",
      "7000 [9286659.89808108 8454118.40953012] 162139586830201.25\n",
      "8000 [68081992.31947123 61902834.64061434] 8704797556952631.0\n",
      "9000 [4.99123292e+08 4.53261327e+08] 4.673292343289344e+17\n",
      "10000 [3.65920339e+09 3.31881399e+09] 2.508921296727012e+19\n",
      "1000 [15.29815116 14.7091394 ] 7231.253240114538\n",
      "2000 [27.33795724 26.7868232 ] 4601.219155550515\n",
      "3000 [37.13139097 36.61146912] 2904.9039559749453\n",
      "4000 [45.09757563 44.6033734 ] 1818.217521748937\n",
      "5000 [51.57743578 51.10442717] 1128.244476317314\n",
      "6000 [56.84828724 56.39274269] 695.3464342576824\n",
      "7000 [61.13570498 60.69455127] 428.13898738822104\n",
      "8000 [64.62317676 64.19388146] 266.9777349053387\n",
      "9000 [67.45995561 67.04043193] 173.06651209460048\n",
      "10000 [69.76744724 69.35597562] 121.27915290312967\n",
      "1000 [59.82450701 53.8063655 ] 706.4201698621831\n",
      "2000 [590.84470921 536.04708084] 493937.53896426724\n",
      "3000 [5343.83648595 4847.02394708] 51950560.9023088\n",
      "4000 [47886.65769342 43384.53075544] 4276930196.222971\n",
      "5000 [428679.4789147 387883.2291883] 343335679404.9192\n",
      "6000 [3837110.41519419 3467435.27664145] 27484781258988.31\n",
      "7000 [34345800.64518319 30995992.21766187] 2199534292103266.5\n",
      "8000 [3.07429631e+08 2.77075370e+08] 1.7601705233023632e+17\n",
      "9000 [2.75182699e+09 2.47677210e+09] 1.4085678887156478e+19\n",
      "10000 [2.46320156e+10 2.21396081e+10] 1.1272010378088875e+21\n",
      "1000 [15.02706987 14.43805812] 7297.206845832848\n",
      "2000 [26.84636817 26.29523413] 4696.631752417094\n",
      "3000 [36.46043251 35.94051066] 3008.2243050788215\n",
      "4000 [44.28071132 43.78650909] 1917.346841782771\n",
      "5000 [50.64188612 50.16887751] 1216.9352884891907\n",
      "6000 [55.81619443 55.36064988] 770.8949696219698\n",
      "7000 [60.02508031 59.5839266 ] 489.9194861515334\n",
      "8000 [63.44867131 63.019376  ] 315.52239407785163\n",
      "9000 [66.23348711 65.81396342] 209.49719239614817\n",
      "10000 [68.49871002 68.0872384 ] 146.96428457618066\n",
      "1000 [39.99871443 36.65816869] 2701.0066067322327\n",
      "2000 [234.23266992 217.42182723] 47680.17089640724\n",
      "3000 [1189.2992392  1105.42338551] 2374741.4743761714\n",
      "4000 [5885.47760981 5467.70297754] 64686106.92509253\n",
      "5000 [28977.28920741 26897.12173159] 1599897747.2460122\n",
      "6000 [142523.83786802 132167.06040263] 38833072107.25581\n",
      "7000 [700855.69932877 649291.89117543] 938994372665.2747\n",
      "8000 [3446305.18442953 3189582.57572154] 22687663142125.02\n",
      "9000 [16946408.91792037 15668255.433405  ] 548086165813670.6\n",
      "10000 [83330404.38456872 76966819.36491092] 1.324019785577421e+16\n",
      "1000 [15.1174303  14.52841855] 7275.188655613102\n",
      "2000 [27.01023119 26.45909715] 4664.716767111907\n",
      "3000 [36.68408533 36.16416348] 2973.577738726854\n",
      "4000 [44.55299943 44.05879719] 1883.9976847921703\n",
      "5000 [50.95373601 50.48072739] 1186.9702014397794\n",
      "6000 [56.16022536 55.70468082] 745.2234754802892\n",
      "7000 [60.39528853 59.95413482] 468.7601226291606\n",
      "8000 [63.84017313 63.41087782] 298.70799183514964\n",
      "9000 [66.64230994 66.22278626] 196.66353177876755\n",
      "10000 [68.92162242 68.5101508 ] 137.66407488046903\n",
      "1000 [45.60982342 41.54643094] 1991.1627081617619\n",
      "2000 [316.46802521 291.56341834] 109240.49786578506\n",
      "3000 [1942.70524746 1791.10759431] 6624370.439304355\n",
      "4000 [11706.72190011 10784.96144908] 257176933.73557937\n",
      "5000 [70330.77836197 64727.22397991] 9376030699.708525\n",
      "6000 [422317.26739057 388253.24403619] 338353291272.16473\n",
      "7000 [2535703.7586273  2328629.49474183] 12189506461948.385\n",
      "8000 [15224917.13431087 13966119.39539307] 439015392404468.8\n",
      "9000 [91414105.48075019 83761915.85624973] 1.5810785688743028e+16\n",
      "10000 [5.48875976e+08 5.02358570e+08] 5.694089237291251e+17\n",
      "1000 [15.56923245 14.98022069] 7165.602529219016\n",
      "2000 [27.82954632 27.27841228] 4506.803635830929\n",
      "3000 [37.80234943 37.28242758] 2803.441656727285\n",
      "4000 [45.91443994 45.42023771] 1721.8426545290774\n",
      "5000 [52.51298544 52.03997682] 1043.1670110744692\n",
      "6000 [57.88038005 57.4248355 ] 624.1957400755957\n",
      "7000 [62.24632965 61.80517593] 371.4512640362809\n",
      "8000 [65.79768222 65.36838691] 224.12871839955906\n",
      "9000 [68.68642412 68.26690044] 142.84673644482277\n",
      "10000 [71.03618446 70.62471284] 102.24051347229008\n",
      "1000 [91.6994755  80.83182516] 443.0286763382365\n",
      "2000 [1577.12086507 1397.55365692] 4116471.5479210108\n",
      "3000 [25770.42725768 22809.61765865] 1208215455.2606413\n",
      "4000 [419814.39974829 371001.01449925] 322031635824.7375\n",
      "5000 [6837790.67935236 6033035.02145947] 85340188395252.45\n",
      "6000 [1.11371299e+08 9.81038039e+07] 2.2607699275616132e+16\n",
      "7000 [1.81398841e+09 1.59525565e+09] 5.988951497475961e+18\n",
      "8000 [2.95460754e+10 2.59399673e+10] 1.58652073002049e+21\n",
      "9000 [4.81248325e+11 4.21796713e+11] 4.20282982094042e+23\n",
      "10000 [7.83867834e+12 6.85853740e+12] 1.1133687327219052e+26\n",
      "1000 [15.65959288 15.07058112] 7143.78626888113\n",
      "2000 [27.99340935 27.44227531] 4475.553368623737\n",
      "3000 [38.02600225 37.5060804 ] 2770.0337902794413\n",
      "4000 [46.18672805 45.69252582] 1690.3297994144566\n",
      "5000 [52.82483532 52.35182671] 1015.6108219777552\n",
      "6000 [58.22441098 57.76886644] 601.4561400553856\n",
      "7000 [62.61653787 62.17538416] 353.6870841214957\n",
      "8000 [66.18918404 65.75988873] 211.11141126802283\n",
      "9000 [69.09524696 68.67572327] 134.1536789286265\n",
      "10000 [71.45909687 71.04762525] 97.37129860472675\n",
      "1000 [106.25003558  93.01105279] 1504.7164241654627\n",
      "2000 [2208.88362226 1941.99128176] 8254874.57290135\n",
      "3000 [44014.75389635 38643.13259898] 3506883294.9228225\n",
      "4000 [875233.01642302 767129.62781128] 1389342001804.6182\n",
      "5000 [17402348.73877349 15226786.70452295] 548532222558652.2\n",
      "6000 [3.46014252e+08 3.02231450e+08] 2.1653150603142675e+17\n",
      "7000 [6.87993395e+09 5.99881281e+09] 8.547468062719415e+19\n",
      "8000 [1.36797723e+11 1.19065316e+11] 3.3740766308946177e+22\n",
      "9000 [2.72005599e+12 2.36319444e+12] 1.3319063070621738e+25\n",
      "10000 [5.40855489e+13 4.69037732e+13] 5.257674913876613e+27\n",
      "1000 [15.38851159 14.79949983] 7209.336014835728\n",
      "2000 [27.50182027 26.95068623] 4569.636529294326\n",
      "3000 [37.35504379 36.83512194] 2870.8767395750397\n",
      "4000 [45.36986374 44.87566151] 1785.7865156963228\n",
      "5000 [51.88928567 51.41627705] 1099.483838244249\n",
      "6000 [57.19231817 56.73677363] 671.1408871767434\n",
      "7000 [61.5059132  61.06475949] 408.67721566964144\n",
      "8000 [65.01467858 64.58538327] 252.06188021821865\n",
      "9000 [67.86877845 67.44925477] 162.3031530278121\n",
      "10000 [70.19035965 69.77888803] 114.19444062149232\n",
      "1000 [68.80040394 61.47338883] 269.0801370689015\n",
      "2000 [815.21048605 733.85189005] 1011562.4841804771\n",
      "3000 [8971.90569234 8071.56249424] 147028276.56847537\n",
      "4000 [98108.16743019 88147.69380811] 17840308138.94153\n",
      "5000 [1072195.92180431  962006.50237557] 2131212840684.3103\n",
      "6000 [11717186.3869651  10498200.39316047] 254234589017526.1\n",
      "7000 [1.28048340e+08 1.14563139e+08] 3.0324018409104076e+16\n",
      "8000 [1.39935524e+09 1.25017334e+09] 3.6168835378142935e+18\n",
      "9000 [1.52927515e+10 1.36424060e+10] 4.314025204941736e+20\n",
      "10000 [1.67127136e+11 1.48869961e+11] 5.145548357074874e+22\n",
      "1000 [15.47887202 14.88986026] 7187.45244453721\n",
      "2000 [27.66568329 27.11454925] 4538.1646893878105\n",
      "3000 [37.57869661 37.05877476] 2837.0559731591497\n",
      "4000 [45.64215184 45.14794961] 1753.6615599563718\n",
      "5000 [52.20113555 51.72812694] 1071.1246831633052\n",
      "6000 [57.53634911 57.08080457] 647.4239891160521\n",
      "7000 [61.87612142 61.43496771] 389.7813078856692\n",
      "8000 [65.4061804  64.97688509] 237.77887471629904\n",
      "9000 [68.27760129 67.8580776 ] 152.22989447788908\n",
      "10000 [70.61327205 70.20180043] 107.84822747787986\n",
      "1000 [79.32995009 70.40739423] 120.25625487166943\n",
      "2000 [1131.06325474 1010.21545671] 2047120.8609005988\n",
      "3000 [15162.60969195 13530.1911141 ] 419677934.16086596\n",
      "4000 [202364.02572619 180317.56847379] 75374496496.16888\n",
      "5000 [2699926.98079106 2402185.21335532] 13408938944813.945\n",
      "6000 [36021655.7260001  32000598.58384433] 2383723012120388.5\n",
      "7000 [4.80593971e+08 4.26288862e+08] 4.237355439444641e+17\n",
      "8000 [6.41204785e+09 5.67864746e+09] 7.532397403968976e+19\n",
      "9000 [8.55498161e+10 7.56451102e+10] 1.3389748317977236e+22\n",
      "10000 [1.14141965e+12 1.00765479e+12] 2.3801953807220525e+24\n",
      "1000 [14.48490729 13.89589554] 7430.0227417378255\n",
      "2000 [25.86319001 25.31205597] 4890.4481775912145\n",
      "3000 [35.11851559 34.59859373] 3220.4391528552355\n",
      "4000 [42.6469827  42.15278047] 2123.868840292309\n",
      "5000 [48.77078681 48.2977782 ] 1405.1569536200227\n",
      "6000 [53.7520088  53.29646426] 935.1855638970942\n",
      "7000 [57.80383097 57.36267726] 628.7588099122663\n",
      "8000 [61.0996604  60.67036509] 429.69864042307165\n",
      "9000 [63.78055009 63.36102641] 300.99126695453566\n",
      "10000 [65.96123557 65.54976395] 218.27402464892035\n",
      "1000 [19.46006871 18.41749925] 6309.461258949339\n",
      "2000 [47.56953404 45.91501733] 1602.928338640243\n",
      "3000 [89.23639521 86.66311578] 494.8304646934878\n",
      "4000 [150.99959354 147.04690606] 11741.061497312248\n",
      "5000 [242.55195902 236.52826182] 56720.29344292485\n",
      "6000 [378.26143503 369.12837414] 185572.88900177923\n",
      "7000 [579.42605394 565.62466995] 513150.56890301546\n",
      "8000 [877.61659014 856.80629925] 1298723.1655120694\n",
      "9000 [1319.63153713 1288.2982437 ] 3122159.3578497577\n",
      "10000 [1974.84212723 1927.7098534 ] 7272552.18092614\n",
      "1000 [14.57526772 13.98625597] 7407.802621636223\n",
      "2000 [26.02705304 25.475919  ] 4857.868474188027\n",
      "3000 [35.34216841 34.82224655] 3184.5538865991043\n",
      "4000 [42.9192708  42.42506857] 2088.683381425737\n",
      "5000 [49.0826367  48.60962808] 1372.7829686179302\n",
      "6000 [54.09603974 53.6404952 ] 906.5821756339651\n",
      "7000 [58.1740392  57.73288548] 604.2042627823154\n",
      "8000 [61.49116221 61.06186691] 409.08714306921183\n",
      "9000 [64.18937293 63.76984924] 284.0170032359751\n",
      "10000 [66.38414798 65.97267636] 204.54282012507022\n",
      "1000 [21.7597979  20.49607312] 5824.243314839265\n",
      "2000 [60.25463714 57.83804386] 539.8766205509993\n",
      "3000 [129.94614171 125.41565015] 6059.514506149784\n",
      "4000 [256.11676654 247.71023367] 65472.759435502354\n",
      "5000 [484.53867919 469.02504167] 334938.47727414925\n",
      "6000 [898.07949868 869.53428271] 1353205.3478859677\n",
      "7000 [1646.76621696 1594.32631458] 4934483.308329223\n",
      "8000 [3002.21468849 2905.96151814] 17111586.290044926\n",
      "9000 [5456.17225379 5279.58312851] 57810869.67274738\n",
      "10000 [9898.92610708 9575.03307243] 192608890.5081738\n",
      "1000 [14.30418643 13.71517468] 7474.563946881966\n",
      "2000 [25.53546396 24.98432992] 4955.939943446574\n",
      "3000 [34.67120995 34.15128809] 3292.8290353195544\n",
      "4000 [42.10240649 41.60820426] 2195.157908963462\n",
      "5000 [48.14708704 47.67407842] 1471.1093726005577\n",
      "6000 [53.06394693 52.60840239] 993.8582874840914\n",
      "7000 [57.06341453 56.62226081] 679.5654959759521\n",
      "8000 [60.31665676 59.88736145] 472.8201826863488\n",
      "9000 [62.96290442 62.54338074] 337.01009594223166\n",
      "10000 [65.11541076 64.70393914] 247.95193111069443\n",
      "1000 [15.72767068 15.01600292] 7142.544281021282\n",
      "2000 [30.86098105 30.07212663] 3968.4352928063417\n",
      "3000 [45.89727766 45.03073601] 1746.5832434142312\n",
      "4000 [60.83718888 59.89245617] 458.8827943853321\n",
      "5000 [75.68133902 74.65790815] 87.49902948230638\n",
      "6000 [90.43034842 89.327709  ] 614.863737136052\n",
      "7000 [105.0848334  103.90247175] 2023.671742218007\n",
      "8000 [119.64540638 118.38280546] 4296.87728649497\n",
      "9000 [134.11267581 132.76931526] 7417.69045713099\n",
      "10000 [148.48724629 147.06260235] 11369.57366260945\n"
     ]
    }
   ],
   "source": [
    "w_list_GD_L1  = []\n",
    "w_list_GD_L2 = []\n",
    "w_list_SGD_L1  = []\n",
    "w_list_SGD_L2  = []\n",
    "\n",
    "\n",
    "for l in range(0, 11):\n",
    "    w1 = GD_reg1(X_st, y, 10000,1e-4 , lambda_=10^(-l)-1)\n",
    "    w2 = GD_reg2(X_st, y, 10000,1e-4 , lambda_=10^(-l)-1)\n",
    " \n",
    "    w_list_GD_L1.append(w1.copy())\n",
    "    w_list_GD_L2.append(w2.copy())\n",
    "   \n",
    "\n",
    "                 \n",
    "                    "
   ]
  },
  {
   "cell_type": "code",
   "execution_count": null,
   "metadata": {},
   "outputs": [],
   "source": []
  },
  {
   "cell_type": "code",
   "execution_count": 103,
   "metadata": {},
   "outputs": [
    {
     "data": {
      "text/plain": [
       "Text(0, 0.5, 'Веса')"
      ]
     },
     "execution_count": 103,
     "metadata": {},
     "output_type": "execute_result"
    },
    {
     "data": {
      "image/png": "[encoded data removed]",
      "text/plain": [
       "<Figure size 936x432 with 1 Axes>"
      ]
     },
     "metadata": {
      "needs_background": "light"
     },
     "output_type": "display_data"
    }
   ],
   "source": [
    "# График изменения весов от числа итераций\n",
    "plt.figure(figsize=(13, 6))\n",
    "plt.plot(range(len( w_list_GD_L1)),  w_list_GD_L1, c='g')\n",
    "plt.plot(range(len( w_list_GD_L2)),  w_list_GD_L2,c='r')\n",
    "plt.title('График изменения весов для L1 и L2 регуляризации от коэффициента регуляризации (lambda) ')\n",
    "plt.xlabel('')\n",
    "plt.ylabel('Веса')"
   ]
  },
  {
   "cell_type": "code",
   "execution_count": 104,
   "metadata": {},
   "outputs": [
    {
     "name": "stdout",
     "output_type": "stream",
     "text": [
      "1000 [10989.00896725 10989.61459857] 245997852.66911387\n",
      "2000 [21955.01611808 21956.50669261] 988590918.2985779\n",
      "3000 [32899.30411587 32903.1601471 ] 2224939970.478328\n",
      "4000 [43817.53289458 43824.6345113 ] 3951362181.077181\n",
      "5000 [54718.20331394 54727.41367474] 6166082565.105335\n",
      "6000 [65598.68808866 65612.79678289] 8866473459.668495\n",
      "7000 [76450.32971791 76474.24914536] 12047605483.705944\n",
      "8000 [87279.81235715 87301.62965987] 15705307008.513922\n",
      "9000 [98082.40006195 98124.33980559] 19840799400.63769\n",
      "10000 [108867.71905604 108901.77330026] 24445006700.89056\n",
      "1000 [nan nan] nan\n",
      "2000 [nan nan] nan\n",
      "3000 [nan nan] nan\n",
      "4000 [nan nan] nan\n",
      "5000 [nan nan] nan\n",
      "6000 [nan nan] nan\n"
     ]
    },
    {
     "name": "stderr",
     "output_type": "stream",
     "text": [
      "/var/folders/g3/bnjh0tnx5sb623ptvdxgc7v00000gn/T/ipykernel_1126/2986637742.py:3: RuntimeWarning: overflow encountered in double_scalars\n",
      "  return (sum((y - y_pred)**2)) / len(y)\n",
      "/var/folders/g3/bnjh0tnx5sb623ptvdxgc7v00000gn/T/ipykernel_1126/2986637742.py:3: RuntimeWarning: overflow encountered in square\n",
      "  return (sum((y - y_pred)**2)) / len(y)\n",
      "/var/folders/g3/bnjh0tnx5sb623ptvdxgc7v00000gn/T/ipykernel_1126/2719114384.py:7: RuntimeWarning: overflow encountered in multiply\n",
      "  new_w = w - 2 * alpha * np.dot(X[train_ind].T, (np.dot(X[train_ind], w) - y[train_ind])) / y.shape[0]- 2 * lambda_ * w\n",
      "/var/folders/g3/bnjh0tnx5sb623ptvdxgc7v00000gn/T/ipykernel_1126/2719114384.py:7: RuntimeWarning: invalid value encountered in subtract\n",
      "  new_w = w - 2 * alpha * np.dot(X[train_ind].T, (np.dot(X[train_ind], w) - y[train_ind])) / y.shape[0]- 2 * lambda_ * w\n"
     ]
    },
    {
     "name": "stdout",
     "output_type": "stream",
     "text": [
      "7000 [nan nan] nan\n",
      "8000 [nan nan] nan\n",
      "9000 [nan nan] nan\n",
      "10000 [nan nan] nan\n",
      "1000 [11987.95048496 11988.67023265] 293086404.3416729\n",
      "2000 [23950.8533561  23952.53908978] 1177162257.6470728\n",
      "3000 [35890.06298134 35894.32978598] 2648846610.493655\n",
      "4000 [47800.84384519 47808.6517292 ] 4703756324.0363\n",
      "5000 [59692.4709569  59702.57955317] 7339779486.476372\n",
      "6000 [71562.07746864 71577.53027879] 10553788913.6215\n",
      "7000 [83400.21821484 83426.37437644] 14339917810.1468\n",
      "8000 [95214.18551852 95238.04830254] 18693201480.69138\n",
      "9000 [106998.81267117 107044.62855183] 23615094185.585743\n",
      "10000 [118764.60165491 118801.81449535] 29094793859.321587\n",
      "1000 [nan nan] nan\n",
      "2000 [nan nan] nan\n",
      "3000 [nan nan] nan\n",
      "4000 [nan nan] nan\n",
      "5000 [nan nan] nan\n",
      "6000 [nan nan] nan\n",
      "7000 [nan nan] nan\n",
      "8000 [nan nan] nan\n",
      "9000 [nan nan] nan\n",
      "10000 [nan nan] nan\n",
      "1000 [8991.12593182 8991.50333039] 164183815.3855839\n",
      "2000 [17963.34164206 17964.44189828] 660798467.1648213\n",
      "3000 [26917.78638492 26920.82086935] 1487946882.1333838\n",
      "4000 [35850.91099336 35856.6000755 ] 2643164099.365433\n",
      "5000 [44769.66802802 44777.08191788] 4125261205.4198127\n",
      "6000 [53671.9093287  53683.32979107] 5932479258.500222\n",
      "7000 [62550.55272407 62569.99868319] 8061519061.612733\n",
      "8000 [71411.06603442 71428.79237453] 10509588205.525576\n",
      "9000 [80249.57484352 80283.76231312] 13277503199.589977\n",
      "10000 [89073.95385831 89101.69091009] 16359189787.534313\n",
      "1000 [nan nan] nan\n",
      "2000 [nan nan] nan\n",
      "3000 [nan nan] nan\n",
      "4000 [nan nan] nan\n",
      "5000 [nan nan] nan\n",
      "6000 [nan nan] nan\n",
      "7000 [nan nan] nan\n",
      "8000 [nan nan] nan\n",
      "9000 [nan nan] nan\n",
      "10000 [nan nan] nan\n",
      "1000 [9990.06744953 9990.55896448] 203030323.01708466\n",
      "2000 [19959.17888007 19960.47429545] 816469654.8044945\n",
      "3000 [29908.5452504  29911.99050823] 1837973394.3582385\n",
      "4000 [39834.22194397 39840.6172934 ] 3264498106.1868763\n",
      "5000 [49743.93567098 49752.24779631] 5094576471.41976\n",
      "6000 [59635.29870868 59648.06328698] 7326036907.961356\n",
      "7000 [69500.44122099 69522.12391427] 9954805900.861229\n",
      "8000 [79345.43919579 79365.2110172 ] 12977435916.791977\n",
      "9000 [89165.98745273 89204.05105935] 16394935738.639063\n",
      "10000 [98970.83645717 99001.73210517] 20199805343.62801\n",
      "1000 [nan nan] nan\n",
      "2000 [nan nan] nan\n",
      "3000 [nan nan] nan\n",
      "4000 [nan nan] nan\n",
      "5000 [nan nan] nan\n",
      "6000 [nan nan] nan\n",
      "7000 [nan nan] nan\n",
      "8000 [nan nan] nan\n",
      "9000 [nan nan] nan\n",
      "10000 [nan nan] nan\n",
      "1000 [14984.77503811 14985.83713491] 459078191.4825266\n",
      "2000 [29938.36507014 29940.63628127] 1841576730.8190463\n",
      "3000 [44862.33957775 44867.8387026 ] 4142206913.9110713\n",
      "4000 [59750.77669701 59760.70338291] 7354119161.326832\n",
      "5000 [74615.27388579 74628.07718846] 11474015216.703238\n",
      "6000 [89452.24560857 89471.73076651] 16497008688.956694\n",
      "7000 [104249.8837056  104282.75006968] 22413931251.047035\n",
      "8000 [119017.30500262 119047.30423055] 29217025179.957638\n",
      "9000 [133748.05049881 133805.49479055] 36908565278.12717\n",
      "10000 [148455.24945151 148501.93808061] 45471670141.627304\n",
      "1000 [nan nan] nan\n",
      "2000 [nan nan] nan\n",
      "3000 [nan nan] nan\n",
      "4000 [nan nan] nan\n",
      "5000 [nan nan] nan\n",
      "6000 [nan nan] nan\n",
      "7000 [nan nan] nan\n",
      "8000 [nan nan] nan\n",
      "9000 [nan nan] nan\n",
      "10000 [nan nan] nan\n",
      "1000 [15983.71655582 15984.892769  ] 522650831.2372034\n",
      "2000 [31934.20230815 31936.66867844] 2095948373.5851972\n",
      "3000 [47853.09844322 47859.00834148] 4713873809.507347\n",
      "4000 [63734.08764762 63744.72060081] 8368633576.561335\n",
      "5000 [79589.54152875 79603.24306689] 13056475448.816607\n",
      "6000 [95415.63498855 95436.46426241] 18771839751.893658\n",
      "7000 [111199.77220253 111234.87530077] 25504294551.87292\n",
      "8000 [126951.67816398 126983.72287322] 33245013173.95745\n",
      "9000 [142664.46310803 142725.78353678] 41996584554.87323\n",
      "10000 [158352.13205037 158401.9792757 ] 51739800504.73376\n",
      "1000 [nan nan] nan\n",
      "2000 [nan nan] nan\n",
      "3000 [nan nan] nan\n",
      "4000 [nan nan] nan\n",
      "5000 [nan nan] nan\n",
      "6000 [nan nan] nan\n",
      "7000 [nan nan] nan\n",
      "8000 [nan nan] nan\n",
      "9000 [nan nan] nan\n",
      "10000 [nan nan] nan\n",
      "1000 [12986.89200268 12987.72586674] 344295978.03476137\n",
      "2000 [25946.69059411 25948.57148694] 1382183672.8499875\n",
      "3000 [38880.82184681 38885.49942485] 3109693314.4042277\n",
      "4000 [51784.15479579 51792.6689471 ] 5521680535.0643\n",
      "5000 [64666.73859987 64677.7454316 ] 8615667235.533085\n",
      "6000 [77525.46684862 77542.2637747 ] 12387983269.820568\n",
      "7000 [90350.10671176 90378.49960752] 16831742880.183996\n",
      "8000 [103148.55867988 103174.46694521] 21941119333.3245\n",
      "9000 [115915.22528038 115964.91729807] 27717820093.48323\n",
      "10000 [128661.48425377 128701.85569044] 34149166818.921402\n",
      "1000 [nan nan] nan\n",
      "2000 [nan nan] nan\n",
      "3000 [nan nan] nan\n",
      "4000 [nan nan] nan\n",
      "5000 [nan nan] nan\n",
      "6000 [nan nan] nan\n",
      "7000 [nan nan] nan\n",
      "8000 [nan nan] nan\n",
      "9000 [nan nan] nan\n",
      "10000 [nan nan] nan\n",
      "1000 [13985.83352039 13986.78150083] 399626573.74837905\n",
      "2000 [27942.52783212 27944.60388411] 1603655163.9073093\n",
      "3000 [41871.58071228 41876.66906373] 3607480082.2100196\n",
      "4000 [55767.4657464 55776.686165 ] 6405134814.161121\n",
      "5000 [69641.00624283 69652.91131003] 9993745812.275345\n",
      "6000 [83488.85622859 83506.9972706 ] 14369056528.26563\n",
      "7000 [97299.99520868 97330.6248386 ] 19523080693.817352\n",
      "8000 [111082.93184125 111110.88558788] 25449060566.41317\n",
      "9000 [124831.6378896  124885.20604431] 32148977124.330395\n",
      "10000 [138558.36685264 138601.89688552] 39608125579.69017\n",
      "1000 [nan nan] nan\n",
      "2000 [nan nan] nan\n",
      "3000 [nan nan] nan\n",
      "4000 [nan nan] nan\n"
     ]
    },
    {
     "name": "stderr",
     "output_type": "stream",
     "text": [
      "/var/folders/g3/bnjh0tnx5sb623ptvdxgc7v00000gn/T/ipykernel_1126/2719114384.py:7: RuntimeWarning: overflow encountered in subtract\n",
      "  new_w = w - 2 * alpha * np.dot(X[train_ind].T, (np.dot(X[train_ind], w) - y[train_ind])) / y.shape[0]- 2 * lambda_ * w\n"
     ]
    },
    {
     "name": "stdout",
     "output_type": "stream",
     "text": [
      "5000 [nan nan] nan\n",
      "6000 [nan nan] nan\n",
      "7000 [nan nan] nan\n",
      "8000 [nan nan] nan\n",
      "9000 [nan nan] nan\n",
      "10000 [nan nan] nan\n",
      "1000 [2997.47682553 2997.16952588] 17646232.027702052\n",
      "2000 [5988.31821398 5988.24751529] 72222934.26946646\n",
      "3000 [8973.2331921  8973.80303611] 163529150.5842894\n",
      "4000 [11951.04528972 11952.49676809] 291291487.88267684\n",
      "5000 [14924.06217024 14926.08664731] 455376990.817332\n",
      "6000 [17891.57304883 17894.92881564] 655590308.8990918\n",
      "7000 [20851.22174253 20857.2472967 ] 891565641.642787\n",
      "8000 [23804.82706623 23810.28051851] 1162992927.4950302\n",
      "9000 [26751.09918822 26762.02983569] 1469961547.2351034\n",
      "10000 [29692.6582651  29701.44373956] 1811798275.5156395\n",
      "1000 [nan nan] nan\n",
      "2000 [nan nan] nan\n",
      "3000 [nan nan] nan\n",
      "4000 [nan nan] nan\n",
      "5000 [nan nan] nan\n",
      "6000 [nan nan] nan\n",
      "7000 [nan nan] nan\n",
      "8000 [nan nan] nan\n",
      "9000 [nan nan] nan\n",
      "10000 [nan nan] nan\n",
      "1000 [3996.41834325 3996.22515996] 31766607.536025416\n",
      "2000 [7984.15545199 7984.27991246] 129193666.78265919\n",
      "3000 [11963.99205757 11964.97267498] 291915279.43770885\n",
      "4000 [15934.35624033 15936.513986  ] 519445086.29100955\n",
      "5000 [19898.32981321 19901.25252574] 811547290.7037942\n",
      "6000 [23854.96242881 23859.66231155] 1167874544.8843343\n",
      "7000 [27801.11023945 27809.37252778] 1587776019.313874\n",
      "8000 [31739.2002276  31746.69916118] 2070700356.0278244\n",
      "9000 [35667.51179744 35682.31858193] 2616807348.58716\n",
      "10000 [39589.54086397 39601.48493465] 3224899024.596918\n",
      "1000 [nan nan] nan\n",
      "2000 [nan nan] nan\n",
      "3000 [nan nan] nan\n",
      "4000 [nan nan] nan\n",
      "5000 [nan nan] nan\n",
      "6000 [nan nan] nan\n",
      "7000 [nan nan] nan\n",
      "8000 [nan nan] nan\n",
      "9000 [nan nan] nan\n",
      "10000 [nan nan] nan\n"
     ]
    }
   ],
   "source": [
    "\n",
    "w_list_SGD_L1  = []\n",
    "w_list_SGD_L2  = []\n",
    "\n",
    "for l in range(0, 10):\n",
    "    w3 = SGD_reg1(X_st, y, 10000,1e-4 , lambda_=10^(-l)-1)\n",
    "    w4 = SGD_reg2(X_st, y, 10000,1e-4 , lambda_=10^(-l)-1)\n",
    "    w_list_SGD_L1.append(w3.copy())\n",
    "    w_list_SGD_L2.append(w4.copy())"
   ]
  },
  {
   "cell_type": "code",
   "execution_count": null,
   "metadata": {},
   "outputs": [],
   "source": []
  }
 ],
 "metadata": {
  "colab": {
   "collapsed_sections": [
    "Ws1-N-_Qiqus",
    "Lq5zA2Itiqu3"
   ],
   "name": "Lesson_2.ipynb",
   "provenance": []
  },
  "kernelspec": {
   "display_name": "Python 3 (ipykernel)",
   "language": "python",
   "name": "python3"
  },
  "language_info": {
   "codemirror_mode": {
    "name": "ipython",
    "version": 3
   },
   "file_extension": ".py",
   "mimetype": "text/x-python",
   "name": "python",
   "nbconvert_exporter": "python",
   "pygments_lexer": "ipython3",
   "version": "3.9.7"
  }
 },
 "nbformat": 4,
 "nbformat_minor": 4
}
