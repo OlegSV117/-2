{
 "cells": [
  {
   "cell_type": "markdown",
   "id": "81e1fbc7-a5c1-403e-a4ad-c12a6846afe1",
   "metadata": {},
   "source": [
    "1. В коде из методички реализуйте один или несколько критериев останова (количество листьев, глубина дерева и т.д.).\n"
   ]
  },
  {
   "cell_type": "code",
   "execution_count": null,
   "id": "70d08514-00cc-4517-b8ed-e17c4a19ecfb",
   "metadata": {},
   "outputs": [],
   "source": [
    " #  прекращаем рекурсию, если достигли заданного количества листьев leaf_max\n",
    "    \n",
    "def build_tree(data, labels,index_max, leaf_max):\n",
    "\n",
    "    quality, t, index = find_best_split(data, labels)\n",
    "    \n",
    "    #  Базовый случай - прекращаем рекурсию, если достигли заданного количества листьев leaf_max\n",
    "    if len(labels) == leaf_max:\n",
    "        return Leaf(data, labels)\n",
    "    \n",
    "    #  Базовый случай - прекращаем рекурсию, если достигли глубины дерева index_max\n",
    "    if index == index_max:\n",
    "        return Leaf(data, labels)\n",
    "\n",
    "    #  Базовый случай - прекращаем рекурсию, когда нет прироста в качества\n",
    "    if quality == 0:\n",
    "        return Leaf(data, labels)\n",
    "\n",
    "    true_data, false_data, true_labels, false_labels = split(data, labels, index, t)\n",
    "\n",
    "    # Рекурсивно строим два поддерева\n",
    "    true_branch = build_tree(true_data, true_labels)\n",
    "    false_branch = build_tree(false_data, false_labels)\n",
    "\n",
    "    # Возвращаем класс узла со всеми поддеревьями, то есть целого дерева\n",
    "    return Node(index, t, true_branch, false_branch)"
   ]
  },
  {
   "cell_type": "markdown",
   "id": "0b620abe-8d48-4940-ac35-0671562702b3",
   "metadata": {},
   "source": [
    "2. Для задачи классификации обучите дерево решений с использованием критериев разбиения Джини и Энтропия. Сравните качество классификации, сделайте выводы."
   ]
  },
  {
   "cell_type": "markdown",
   "id": "a8cd85fb-ad29-4e01-b9fa-e98c62e85310",
   "metadata": {},
   "source": [
    "В задаче классификации есть несколько способов определить критерий информативности.\n",
    "\n",
    "Обозначим через $p_{k}$ долю объектов класса $k$ в выборке $X$:\n",
    "\n",
    "$$p_{k} = \\frac{1}{|X|}\\sum_{i\\in X}[y_{i} = k].$$\n",
    "\n",
    "$p_{k}$ будет характеризовать вероятность выдачи класса $k$.\n",
    "\n",
    "_Критерий Джини_ или _индекс Джини_ выглядит следующим образом:\n",
    "\n",
    "$$H(X) = \\sum^{K}_{k=1}p_{k}(1-p_{k}),$$\n",
    "\n",
    "где $K$ - количество классов в наборе данных $X$.\n",
    "\n",
    "Его минимум достигается когда все объекты в подмножестве относятся к одному классу, а максимум - при равном содержании объектов всех класов. Критерий информативности Джини можно интерпретировать как вероятность ошибки случайного классификатора.\n",
    "\n",
    "Еще один критерий информативности - _энтропийный критерий_. Он также называется _энтропией Шеннона_ и записывается как\n",
    "\n",
    "$$H(X) = - \\sum^{K}_{k=1}p_{k}\\text{log}_{2}p_{k}.$$\n",
    "\n",
    "Минимум энтропии также достигается когда все объекты относятся к одному класссу, а максимум - при равномерном распределении. Стоит отметить, что в формуле полагается, что $0\\text{log}_{2}0=0.$"
   ]
  },
  {
   "cell_type": "code",
   "execution_count": null,
   "id": "b483dcdf-a9f8-45e1-bc6e-df7616e5ed9a",
   "metadata": {},
   "outputs": [],
   "source": [
    "# Расчет критерия Джини\n",
    "\n",
    "def gini(labels):\n",
    "    #  подсчет количества объектов разных классов\n",
    "    classes = {}\n",
    "    for label in labels:\n",
    "        if label not in classes:\n",
    "            classes[label] = 0\n",
    "        classes[label] += 1\n",
    "    \n",
    "    #  расчет критерия\n",
    "    impurity = 1\n",
    "    for label in classes:\n",
    "        p = classes[label] / len(labels)\n",
    "        impurity -= p ** 2\n",
    "        \n",
    "    return impurity"
   ]
  },
  {
   "cell_type": "code",
   "execution_count": 4,
   "id": "a07476d1-d526-4c72-9f19-5cd1a2f12727",
   "metadata": {},
   "outputs": [],
   "source": [
    "# Энтропийный критерий\n",
    "\n",
    "def entropy (labels):\n",
    "    #  подсчет количества объектов разных классов\n",
    "    classes = {}\n",
    "    for label in labels:\n",
    "        if label not in classes:\n",
    "            classes[label] = 0\n",
    "        classes[label] += 1\n",
    "    \n",
    "    #  расчет критерия\n",
    "    entropy = 0\n",
    "    for label in classes:\n",
    "        p = classes[label] / len(labels)\n",
    "        if p == 0:\n",
    "            b=1\n",
    "        else:\n",
    "            b = np.log2(p)\n",
    "        entropy += p * b\n",
    "        \n",
    "    return entropy"
   ]
  },
  {
   "cell_type": "code",
   "execution_count": null,
   "id": "6c0d9145-c364-4ac9-932a-31312f89af3c",
   "metadata": {},
   "outputs": [],
   "source": [
    "# Построение дерева с помощью рекурсивной функции\n",
    "\n",
    "def build_tree(data, labels):\n",
    "\n",
    "    quality, t, index = find_best_split(data, labels,gini_min, entropy_min)\n",
    "\n",
    "    #  Базовый случай - прекращаем рекурсию, когда достигается gini_min\n",
    "    if gini(labels) <= gini_min:\n",
    "        return Leaf(data, labels)\n",
    "      #  Базовый случай - прекращаем рекурсию, когда достигается entropy_min\n",
    "    if entropy(labels) <= entropy_min:\n",
    "        return Leaf(data, labels)\n",
    "\n",
    "    true_data, false_data, true_labels, false_labels = split(data, labels, index, t)\n",
    "\n",
    "    # Рекурсивно строим два поддерева\n",
    "    true_branch = build_tree(true_data, true_labels)\n",
    "    false_branch = build_tree(false_data, false_labels)\n",
    "\n",
    "    # Возвращаем класс узла со всеми поддеревьями, то есть целого дерева\n",
    "    return Node(index, t, true_branch, false_branch)"
   ]
  }
 ],
 "metadata": {
  "kernelspec": {
   "display_name": "Python 3 (ipykernel)",
   "language": "python",
   "name": "python3"
  },
  "language_info": {
   "codemirror_mode": {
    "name": "ipython",
    "version": 3
   },
   "file_extension": ".py",
   "mimetype": "text/x-python",
   "name": "python",
   "nbconvert_exporter": "python",
   "pygments_lexer": "ipython3",
   "version": "3.9.7"
  }
 },
 "nbformat": 4,
 "nbformat_minor": 5
}
